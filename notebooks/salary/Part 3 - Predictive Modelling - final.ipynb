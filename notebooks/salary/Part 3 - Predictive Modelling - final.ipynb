{
 "cells": [
  {
   "cell_type": "markdown",
   "metadata": {},
   "source": [
    "# Part 3 - Predictive Modelling + Executive Summary"
   ]
  },
  {
   "cell_type": "markdown",
   "metadata": {},
   "source": [
    "## Introduction\n",
    "\n",
    "This notebook contains the following predictive models as part of Project Four requirements:\n",
    "\n",
    "__Section 1:__ Predicting Job Salary based on all scraped data from seek.com.au<br>\n",
    "__Section 2:__ Predicting Senior and Non-Senior roles from detailed Job Description text<br>\n",
    "__Executive Summary:__ Summary on the predictions, key findings and risk and limitations"
   ]
  },
  {
   "cell_type": "code",
   "execution_count": 222,
   "metadata": {},
   "outputs": [],
   "source": [
    "# Import libraries\n",
    "\n",
    "import pandas as pd\n",
    "import numpy as np"
   ]
  },
  {
   "cell_type": "markdown",
   "metadata": {},
   "source": [
    "## Section 1:  Predict Job Salary based on all available features"
   ]
  },
  {
   "cell_type": "code",
   "execution_count": 223,
   "metadata": {},
   "outputs": [],
   "source": [
    "# Load the jobs_df.csv generated after scraping, extracting, cleaning and transforming data from Part 1 and Part 2 notebooks\n",
    "\n",
    "jobs_df_csv = '../project-four/jobs_df.csv'\n",
    "jobs_df = pd.read_csv(jobs_df_csv, encoding='iso-8859-1', index_col ='job_ids')"
   ]
  },
  {
   "cell_type": "code",
   "execution_count": 224,
   "metadata": {},
   "outputs": [
    {
     "data": {
      "text/plain": [
       "(1059, 7)"
      ]
     },
     "execution_count": 224,
     "metadata": {},
     "output_type": "execute_result"
    }
   ],
   "source": [
    "# Inspect the shape\n",
    "jobs_df.shape"
   ]
  },
  {
   "cell_type": "code",
   "execution_count": 225,
   "metadata": {},
   "outputs": [
    {
     "data": {
      "text/plain": [
       "Index(['job_desc', 'salary', 'advertiser', 'title', 'class', 'sub_class',\n",
       "       'type'],\n",
       "      dtype='object')"
      ]
     },
     "execution_count": 225,
     "metadata": {},
     "output_type": "execute_result"
    }
   ],
   "source": [
    "# Inspect the columns\n",
    "jobs_df.columns"
   ]
  },
  {
   "cell_type": "code",
   "execution_count": 226,
   "metadata": {},
   "outputs": [],
   "source": [
    "# Clean jobs_desc column \n",
    "\n",
    "jobs_df.job_desc = jobs_df.job_desc.str.replace('[0-9]','') # removes digits\n",
    "jobs_df.job_desc = jobs_df.job_desc.str.replace('/_/','') # removes words that starts with underscore _"
   ]
  },
  {
   "cell_type": "code",
   "execution_count": 227,
   "metadata": {},
   "outputs": [],
   "source": [
    "# Create new DataFrame and dummify required categorical variables (except for job_desc and salary)\n",
    "jobs_dummy = pd.get_dummies(jobs_df, columns = ['advertiser', 'class','sub_class', 'title','type'], drop_first = True)"
   ]
  },
  {
   "cell_type": "code",
   "execution_count": 228,
   "metadata": {},
   "outputs": [
    {
     "data": {
      "text/html": [
       "<div>\n",
       "<style scoped>\n",
       "    .dataframe tbody tr th:only-of-type {\n",
       "        vertical-align: middle;\n",
       "    }\n",
       "\n",
       "    .dataframe tbody tr th {\n",
       "        vertical-align: top;\n",
       "    }\n",
       "\n",
       "    .dataframe thead th {\n",
       "        text-align: right;\n",
       "    }\n",
       "</style>\n",
       "<table border=\"1\" class=\"dataframe\">\n",
       "  <thead>\n",
       "    <tr style=\"text-align: right;\">\n",
       "      <th></th>\n",
       "      <th>job_desc</th>\n",
       "      <th>salary</th>\n",
       "      <th>advertiser_A.G. Coombs</th>\n",
       "      <th>advertiser_AGL</th>\n",
       "      <th>advertiser_AIA Insurance</th>\n",
       "      <th>advertiser_AIG</th>\n",
       "      <th>advertiser_AKQA</th>\n",
       "      <th>advertiser_APT Travel Group</th>\n",
       "      <th>advertiser_AYAN INFOTECH PTY LTD</th>\n",
       "      <th>advertiser_Accenture</th>\n",
       "      <th>...</th>\n",
       "      <th>title_Wherescape Red Consultant</th>\n",
       "      <th>title_Workforce Management (Kronos) Solution Consultant</th>\n",
       "      <th>title_ahm Campaign Specialist</th>\n",
       "      <th>title_eCommerce Account Manager</th>\n",
       "      <th>title_eCommerce Coordinator</th>\n",
       "      <th>title_eCommerce Digital Manager</th>\n",
       "      <th>title_webMethods Technical Lead</th>\n",
       "      <th>type_Contract/Temp</th>\n",
       "      <th>type_Full Time</th>\n",
       "      <th>type_Part Time</th>\n",
       "    </tr>\n",
       "    <tr>\n",
       "      <th>job_ids</th>\n",
       "      <th></th>\n",
       "      <th></th>\n",
       "      <th></th>\n",
       "      <th></th>\n",
       "      <th></th>\n",
       "      <th></th>\n",
       "      <th></th>\n",
       "      <th></th>\n",
       "      <th></th>\n",
       "      <th></th>\n",
       "      <th></th>\n",
       "      <th></th>\n",
       "      <th></th>\n",
       "      <th></th>\n",
       "      <th></th>\n",
       "      <th></th>\n",
       "      <th></th>\n",
       "      <th></th>\n",
       "      <th></th>\n",
       "      <th></th>\n",
       "      <th></th>\n",
       "    </tr>\n",
       "  </thead>\n",
       "  <tbody>\n",
       "    <tr>\n",
       "      <th>36097862</th>\n",
       "      <td>['&lt;div class=\"templatetext\"&gt;\\n                ...</td>\n",
       "      <td>below_100k</td>\n",
       "      <td>0</td>\n",
       "      <td>0</td>\n",
       "      <td>0</td>\n",
       "      <td>0</td>\n",
       "      <td>0</td>\n",
       "      <td>0</td>\n",
       "      <td>0</td>\n",
       "      <td>0</td>\n",
       "      <td>...</td>\n",
       "      <td>0</td>\n",
       "      <td>0</td>\n",
       "      <td>0</td>\n",
       "      <td>0</td>\n",
       "      <td>0</td>\n",
       "      <td>0</td>\n",
       "      <td>0</td>\n",
       "      <td>0</td>\n",
       "      <td>1</td>\n",
       "      <td>0</td>\n",
       "    </tr>\n",
       "  </tbody>\n",
       "</table>\n",
       "<p>1 rows × 1500 columns</p>\n",
       "</div>"
      ],
      "text/plain": [
       "                                                   job_desc      salary  \\\n",
       "job_ids                                                                   \n",
       "36097862  ['<div class=\"templatetext\">\\n                ...  below_100k   \n",
       "\n",
       "          advertiser_A.G. Coombs  advertiser_AGL  advertiser_AIA Insurance  \\\n",
       "job_ids                                                                      \n",
       "36097862                       0               0                         0   \n",
       "\n",
       "          advertiser_AIG  advertiser_AKQA  advertiser_APT Travel Group  \\\n",
       "job_ids                                                                  \n",
       "36097862               0                0                            0   \n",
       "\n",
       "          advertiser_AYAN INFOTECH PTY LTD  advertiser_Accenture  \\\n",
       "job_ids                                                            \n",
       "36097862                                 0                     0   \n",
       "\n",
       "               ...        title_Wherescape Red Consultant  \\\n",
       "job_ids        ...                                          \n",
       "36097862       ...                                      0   \n",
       "\n",
       "          title_Workforce Management (Kronos) Solution Consultant  \\\n",
       "job_ids                                                             \n",
       "36097862                                                  0         \n",
       "\n",
       "          title_ahm Campaign Specialist  title_eCommerce Account Manager  \\\n",
       "job_ids                                                                    \n",
       "36097862                              0                                0   \n",
       "\n",
       "          title_eCommerce Coordinator  title_eCommerce Digital Manager  \\\n",
       "job_ids                                                                  \n",
       "36097862                            0                                0   \n",
       "\n",
       "          title_webMethods Technical Lead  type_Contract/Temp  type_Full Time  \\\n",
       "job_ids                                                                         \n",
       "36097862                                0                   0               1   \n",
       "\n",
       "          type_Part Time  \n",
       "job_ids                   \n",
       "36097862               0  \n",
       "\n",
       "[1 rows x 1500 columns]"
      ]
     },
     "execution_count": 228,
     "metadata": {},
     "output_type": "execute_result"
    }
   ],
   "source": [
    "# Inspect the dummified columns\n",
    "jobs_dummy.head(1)"
   ]
  },
  {
   "cell_type": "markdown",
   "metadata": {},
   "source": [
    "__In order to predict salary, the classes will need to be converted to numerical values where:__<br>\n",
    "<br>\n",
    "0 - represents salary range of below 100k <br>\n",
    "1 - represents salary range of 100-150k <br>\n",
    "2 - represents salary range of 150k plus <br>"
   ]
  },
  {
   "cell_type": "code",
   "execution_count": 229,
   "metadata": {},
   "outputs": [
    {
     "data": {
      "text/plain": [
       "array(['below_100k', '100-150k', '150k+'], dtype=object)"
      ]
     },
     "execution_count": 229,
     "metadata": {},
     "output_type": "execute_result"
    }
   ],
   "source": [
    "# View salary values\n",
    "jobs_dummy['salary'].unique()"
   ]
  },
  {
   "cell_type": "code",
   "execution_count": 230,
   "metadata": {},
   "outputs": [],
   "source": [
    "# Create new column 'salary_range' and append it with values 0 \n",
    "\n",
    "jobs_dummy.insert(len(jobs_dummy), 'salary_range', 0)"
   ]
  },
  {
   "cell_type": "code",
   "execution_count": 249,
   "metadata": {},
   "outputs": [
    {
     "data": {
      "text/plain": [
       "1    449\n",
       "2    332\n",
       "0    278\n",
       "Name: salary_range, dtype: int64"
      ]
     },
     "execution_count": 249,
     "metadata": {},
     "output_type": "execute_result"
    }
   ],
   "source": [
    "# Replace values in new salary_range column with numerical values\n",
    "\n",
    "jobs_dummy.loc[jobs_dummy['salary'] == '100-150k', 'salary_range'] = 1\n",
    "jobs_dummy.loc[jobs_dummy['salary'] == '150k+', 'salary_range'] = 2       \n",
    "\n",
    "# Print the count of each salary values\n",
    "jobs_dummy['salary_range'].value_counts()"
   ]
  },
  {
   "cell_type": "code",
   "execution_count": 250,
   "metadata": {},
   "outputs": [],
   "source": [
    "x_plot = jobs_dummy['salary_range'].value_counts()"
   ]
  },
  {
   "cell_type": "code",
   "execution_count": 251,
   "metadata": {},
   "outputs": [
    {
     "data": {
      "text/plain": [
       "<matplotlib.axes._subplots.AxesSubplot at 0x1550c115828>"
      ]
     },
     "execution_count": 251,
     "metadata": {},
     "output_type": "execute_result"
    },
    {
     "data": {
      "image/png": "[encoded data removed]",
      "text/plain": [
       "<matplotlib.figure.Figure at 0x1550c11a0b8>"
      ]
     },
     "metadata": {},
     "output_type": "display_data"
    }
   ],
   "source": [
    "import seaborn as sns\n",
    "\n",
    "\n",
    "sns.distplot(jobs_dummy['salary_range'])"
   ]
  },
  {
   "cell_type": "code",
   "execution_count": 11,
   "metadata": {},
   "outputs": [],
   "source": [
    "# Section 1 - Define salary_range as the target variable y\n",
    "\n",
    "y = jobs_dummy['salary_range']"
   ]
  },
  {
   "cell_type": "code",
   "execution_count": 12,
   "metadata": {},
   "outputs": [
    {
     "data": {
      "text/plain": [
       "Index(['job_desc', 'advertiser_A.G. Coombs', 'advertiser_AGL',\n",
       "       'advertiser_AIA Insurance', 'advertiser_AIG', 'advertiser_AKQA',\n",
       "       'advertiser_APT Travel Group', 'advertiser_AYAN INFOTECH PTY LTD',\n",
       "       'advertiser_Accenture', 'advertiser_ActivePipe',\n",
       "       ...\n",
       "       'title_Wherescape Red Consultant',\n",
       "       'title_Workforce Management (Kronos) Solution Consultant',\n",
       "       'title_ahm Campaign Specialist', 'title_eCommerce Account Manager',\n",
       "       'title_eCommerce Coordinator', 'title_eCommerce Digital Manager',\n",
       "       'title_webMethods Technical Lead', 'type_Contract/Temp',\n",
       "       'type_Full Time', 'type_Part Time'],\n",
       "      dtype='object', length=1499)"
      ]
     },
     "execution_count": 12,
     "metadata": {},
     "output_type": "execute_result"
    }
   ],
   "source": [
    "# Define X as all variables except for salary and salary_range\n",
    "\n",
    "X = jobs_dummy\n",
    "X.drop(['salary', 'salary_range'], axis=1, inplace=True)\n",
    "X.columns"
   ]
  },
  {
   "cell_type": "code",
   "execution_count": 15,
   "metadata": {},
   "outputs": [
    {
     "name": "stdout",
     "output_type": "stream",
     "text": [
      "(709, 1499) (709,)\n",
      "(350, 1499) (350,)\n"
     ]
    }
   ],
   "source": [
    "# Split jobs_dummy to train and test sets\n",
    "\n",
    "from sklearn.model_selection import train_test_split\n",
    "X_train, X_test, y_train, y_test = train_test_split(X, y, test_size=0.33)\n",
    "print(X_train.shape, y_train.shape)\n",
    "print(X_test.shape, y_test.shape)"
   ]
  },
  {
   "cell_type": "code",
   "execution_count": null,
   "metadata": {},
   "outputs": [],
   "source": [
    "# Use TfidfVectorizer to extract features from jobs_desc column and fit to train (this is to be used only if vectorized jobs_desc is required for model)\n",
    "\n",
    "from sklearn.feature_extraction.text import TfidfVectorizer\n",
    "\n",
    "# Initialise TfidfVectorizer\n",
    "\n",
    "tfidf_vectorizer = TfidfVectorizer(stop_words='english', token_pattern= '\\w+')\n",
    "\n",
    "# Fit and transform the training data\n",
    "\n",
    "tfidf_train = tfidf_vectorizer.fit_transform(X_train['job_desc'])\n",
    "print(\"train data \" + str(tfidf_train.shape))\n",
    "\n",
    "# Fit and transform the test data\n",
    "\n",
    "tfidf_test = tfidf_vectorizer.transform(X_test['job_desc'])\n",
    "print(\"test data \" + str(tfidf_test.shape))"
   ]
  },
  {
   "cell_type": "code",
   "execution_count": null,
   "metadata": {},
   "outputs": [],
   "source": [
    "# Get the feature names of TfidfVectorizer (this is to be used only if vectorized jobs_desc is required for model))\n",
    "\n",
    "tfidf_features = tfidf_vectorizer.get_feature_names()\n",
    "print(tfidf_features)"
   ]
  },
  {
   "cell_type": "code",
   "execution_count": 16,
   "metadata": {},
   "outputs": [],
   "source": [
    "# Remove job_desc\n",
    "X_train = X_train.drop('job_desc', axis=1)\n",
    "X_test = X_test.drop('job_desc', axis=1)\n"
   ]
  },
  {
   "cell_type": "code",
   "execution_count": null,
   "metadata": {},
   "outputs": [],
   "source": [
    "# Convert tfidf_train and tfidf_test to DataFrames (this is to be used only if vectorized jobs_desc is required for model)\n",
    "\n",
    "df_tfidf_train = pd.DataFrame(tfidf_train.toarray(), columns = tfidf_features)\n",
    "df_tfidf_test = pd.DataFrame(tfidf_test.toarray(), columns = tfidf_features)"
   ]
  },
  {
   "cell_type": "code",
   "execution_count": null,
   "metadata": {},
   "outputs": [],
   "source": [
    "print(X_train.shape)\n",
    "print(X_test.shape)"
   ]
  },
  {
   "cell_type": "code",
   "execution_count": null,
   "metadata": {},
   "outputs": [],
   "source": [
    "# Join tfidf_train and tfidf_test to DataFrames to the original one with the other columns (this is to be used only if vectorized jobs_desc is required for model) \n",
    "\n",
    "X_train = X_train.join(df_tfidf_train)\n",
    "X_test = X_test.join(df_tfidf_test)"
   ]
  },
  {
   "cell_type": "code",
   "execution_count": null,
   "metadata": {},
   "outputs": [],
   "source": [
    "# Replace with NaN values with zero (this is to be used only if vectorized jobs_desc is required for model))\n",
    "\n",
    "X_train.fillna(0, inplace=True)\n",
    "X_test.fillna(0, inplace=True)"
   ]
  },
  {
   "cell_type": "code",
   "execution_count": 17,
   "metadata": {},
   "outputs": [
    {
     "data": {
      "text/plain": [
       "0.5"
      ]
     },
     "execution_count": 17,
     "metadata": {},
     "output_type": "execute_result"
    }
   ],
   "source": [
    "# Predict using Decision Tree Classifier\n",
    "\n",
    "from sklearn.tree import DecisionTreeClassifier\n",
    "from sklearn.metrics import accuracy_score\n",
    "from sklearn.metrics import classification_report\n",
    "\n",
    "clf_dt = DecisionTreeClassifier() # Initiate Decision Tree as the classifier model\n",
    "\n",
    "clf_dt.fit(X_train, y_train) # Fit model to the train set\n",
    "\n",
    "y_pred = clf_dt.predict(X_test) # Predict test set\n",
    "\n",
    "accuracy_score(y_test, y_pred) # Evaluate test-set accuracy"
   ]
  },
  {
   "cell_type": "code",
   "execution_count": 18,
   "metadata": {},
   "outputs": [
    {
     "data": {
      "text/plain": [
       "0.42857142857142855"
      ]
     },
     "execution_count": 18,
     "metadata": {},
     "output_type": "execute_result"
    }
   ],
   "source": [
    "# Predict using Support Vector Machine (SVM)\n",
    "\n",
    "from sklearn import svm\n",
    "\n",
    "clf_svm = svm.SVC() # Initiate  Support Vector Machine the classifier model\n",
    "\n",
    "clf_svm.fit(X_train, y_train) # Fit model to the train set\n",
    "\n",
    "y_pred = clf_svm.predict(X_test) # Predict test set\n",
    "\n",
    "accuracy_score(y_test, y_pred) # Evaluate test-set accuracySupport Vector Machine (SVM)"
   ]
  },
  {
   "cell_type": "code",
   "execution_count": 19,
   "metadata": {},
   "outputs": [
    {
     "data": {
      "text/plain": [
       "0.5571428571428572"
      ]
     },
     "execution_count": 19,
     "metadata": {},
     "output_type": "execute_result"
    }
   ],
   "source": [
    "# Predict using MultinomialNB Classifier\n",
    "\n",
    "from sklearn.naive_bayes import MultinomialNB\n",
    "\n",
    "clf_Mult = MultinomialNB() # Initiate Decision Tree as the classifier model\n",
    "\n",
    "clf_Mult.fit(X_train, y_train) # Fit model to the train set\n",
    "\n",
    "y_pred = clf_Mult.predict(X_test) # Predict test set\n",
    "\n",
    "accuracy_score(y_test, y_pred) # Evaluate test-set accuracy"
   ]
  },
  {
   "cell_type": "code",
   "execution_count": 20,
   "metadata": {},
   "outputs": [
    {
     "data": {
      "text/plain": [
       "0.5714285714285714"
      ]
     },
     "execution_count": 20,
     "metadata": {},
     "output_type": "execute_result"
    }
   ],
   "source": [
    "# Predict using KNN Classifier\n",
    "\n",
    "from sklearn import neighbors\n",
    "\n",
    "clf_KNN = neighbors.KNeighborsClassifier(n_neighbors = 1) # Initiate KNeighboursClassifier as the classifier model\n",
    "\n",
    "clf_KNN.fit(X_train, y_train) # Fit model to the train set\n",
    "\n",
    "y_pred = clf_KNN.predict(X_test) # Predict test set\n",
    "\n",
    "accuracy_score(y_test, y_pred) # Evaluate test-set accuracy"
   ]
  },
  {
   "cell_type": "code",
   "execution_count": 21,
   "metadata": {},
   "outputs": [
    {
     "name": "stderr",
     "output_type": "stream",
     "text": [
      "C:\\Users\\Georgie\\Anaconda3\\lib\\site-packages\\sklearn\\cross_validation.py:41: DeprecationWarning: This module was deprecated in version 0.18 in favor of the model_selection module into which all the refactored classes and functions are moved. Also note that the interface of the new CV iterators are different from that of this module. This module will be removed in 0.20.\n",
      "  \"This module will be removed in 0.20.\", DeprecationWarning)\n",
      "C:\\Users\\Georgie\\Anaconda3\\lib\\site-packages\\sklearn\\grid_search.py:42: DeprecationWarning: This module was deprecated in version 0.18 in favor of the model_selection module into which all the refactored classes and functions are moved. This module will be removed in 0.20.\n",
      "  DeprecationWarning)\n"
     ]
    },
    {
     "name": "stdout",
     "output_type": "stream",
     "text": [
      "0.5162200282087447\n",
      "1\n"
     ]
    }
   ],
   "source": [
    "from sklearn.grid_search import GridSearchCV\n",
    "\n",
    "params = {\"n_neighbors\": np.arange(1,3),\n",
    "          \"metric\": [\"euclidean\", \"cityblock\"]}\n",
    "grid = GridSearchCV(estimator=clf_KNN, param_grid = params)\n",
    "grid.fit(X_train, y_train)\n",
    "\n",
    "print(grid.best_score_)\n",
    "print(grid.best_estimator_.n_neighbors)\n"
   ]
  },
  {
   "cell_type": "code",
   "execution_count": 26,
   "metadata": {},
   "outputs": [
    {
     "data": {
      "text/plain": [
       "0.5428571428571428"
      ]
     },
     "execution_count": 26,
     "metadata": {},
     "output_type": "execute_result"
    }
   ],
   "source": [
    "# Predict using Random Forest Classifier\n",
    "\n",
    "from sklearn.ensemble import RandomForestClassifier\n",
    "\n",
    "clf_RandomForest = RandomForestClassifier() # Initiate RandomForest as the classifier model\n",
    "\n",
    "clf_RandomForest.fit(X_train, y_train) # Fit model to the train set\n",
    "\n",
    "y_pred = clf_RandomForest.predict(X_test) # Predict test set\n",
    "\n",
    "accuracy_score(y_test, y_pred) # Evaluate test-set accuracy"
   ]
  },
  {
   "cell_type": "code",
   "execution_count": 24,
   "metadata": {},
   "outputs": [
    {
     "name": "stdout",
     "output_type": "stream",
     "text": [
      "1    449\n",
      "2    332\n",
      "0    278\n",
      "Name: salary_range, dtype: int64\n",
      "1    0.403414\n",
      "2    0.298293\n",
      "0    0.249775\n",
      "Name: salary_range, dtype: float64\n"
     ]
    }
   ],
   "source": [
    "# Baseline accuracy - the proportion of majority class\n",
    "\n",
    "baseline = y.value_counts() / y.sum()\n",
    "\n",
    "print(y.value_counts())\n",
    "print(baseline)"
   ]
  },
  {
   "cell_type": "markdown",
   "metadata": {},
   "source": [
    "### Summary  of the evaluation of the above classification models: <br>\n",
    "\n",
    "1. When all features were selected to include the vectorized job_desc, the best model that performed was the Decision Tree classifier with accuracy score of 0.44, which is just above the count of the majority class or the baseline. Support Vector Machine (SVM), MultinomialNB, RandomForestClassifier also performed above the baseline <br>\n",
    "<br>\n",
    "2. However, when models were run without the vectorized job_desc, all models performed better and above the baseline. The best model that performed was  KNN Classifier with an accuracy score of 0.57\n"
   ]
  },
  {
   "cell_type": "markdown",
   "metadata": {},
   "source": [
    "# Section 2 - Predicting seniority based job description"
   ]
  },
  {
   "cell_type": "markdown",
   "metadata": {},
   "source": [
    "This model will predict whether a job is for a senior or non-senior position based on the text of the full description of the of the ad. The vectorized features will be used to also predict the seniority of the position. It is assumed that the job description will provide the required skills and experience information\n",
    "\n",
    "In order to predict whether a job ad is for a senior or non-senior position, a new column senior_flag will be created to be the predicted value and will be populated based on the job titles. A rule will be created where job titles with words 'Head', 'Senior', 'Director', 'Lead', 'Chief', 'Manager' will be defined as senior roles.\n",
    "\n",
    "__0 - represents non-senior position__<br>\n",
    "__1 - represents senior position__<br>"
   ]
  },
  {
   "cell_type": "code",
   "execution_count": 239,
   "metadata": {},
   "outputs": [
    {
     "data": {
      "text/plain": [
       "(1059, 2)"
      ]
     },
     "execution_count": 239,
     "metadata": {},
     "output_type": "execute_result"
    }
   ],
   "source": [
    "# Create new DataFrame from jobs_df_csv to only include job_desc, salary and title\n",
    "\n",
    "new_df_csv = '../project-four/jobs_df.csv'\n",
    "new_df = pd.read_csv(new_df_csv, encoding='iso-8859-1', index_col ='job_ids')\n",
    "\n",
    "new_df = pd.DataFrame(new_df, columns = ['job_desc','title'])\n",
    "new_df.shape"
   ]
  },
  {
   "cell_type": "code",
   "execution_count": 240,
   "metadata": {},
   "outputs": [],
   "source": [
    "# Clean jobs_desc column \n",
    "\n",
    "new_df.job_desc = new_df.job_desc.str.replace('[0-9]','') # removes digits\n",
    "new_df.job_desc = new_df.job_desc.str.replace('/_/','') # removes words that starts with underscore _\n",
    "new_df.job_desc = new_df.job_desc.str.replace('(xa)','') # removes words that starts with underscore "
   ]
  },
  {
   "cell_type": "code",
   "execution_count": 241,
   "metadata": {},
   "outputs": [],
   "source": [
    "#Create new column 'senior_flag' and append it with values y \n",
    "\n",
    "new_df.insert(1 , 'senior_flag', 'n')"
   ]
  },
  {
   "cell_type": "code",
   "execution_count": 242,
   "metadata": {},
   "outputs": [
    {
     "data": {
      "text/plain": [
       "Index(['job_desc', 'senior_flag', 'title'], dtype='object')"
      ]
     },
     "execution_count": 242,
     "metadata": {},
     "output_type": "execute_result"
    }
   ],
   "source": [
    "new_df.columns"
   ]
  },
  {
   "cell_type": "code",
   "execution_count": 243,
   "metadata": {},
   "outputs": [],
   "source": [
    "# Update senior_flag based on the rules stated above\n",
    "\n",
    "new_df.loc[new_df['title'].str.contains('Head'), 'senior_flag'] = 'y'\n",
    "new_df.loc[new_df['title'].str.contains('Senior'), 'senior_flag'] = 'y'\n",
    "new_df.loc[new_df['title'].str.contains('Director'), 'senior_flag'] = 'y'\n",
    "new_df.loc[new_df['title'].str.contains('Lead'), 'senior_flag'] = 'y'\n",
    "new_df.loc[new_df['title'].str.contains('Chief'), 'senior_flag'] = 'y'\n",
    "new_df.loc[new_df['title'].str.contains('Manager'), 'senior_flag'] = 'y'"
   ]
  },
  {
   "cell_type": "code",
   "execution_count": 244,
   "metadata": {},
   "outputs": [
    {
     "data": {
      "text/plain": [
       "n    643\n",
       "y    416\n",
       "Name: senior_flag, dtype: int64"
      ]
     },
     "execution_count": 244,
     "metadata": {},
     "output_type": "execute_result"
    }
   ],
   "source": [
    "# Check counts of senior_flag\n",
    "new_df.senior_flag.value_counts()"
   ]
  },
  {
   "cell_type": "code",
   "execution_count": 122,
   "metadata": {},
   "outputs": [
    {
     "data": {
      "text/html": [
       "<div>\n",
       "<style scoped>\n",
       "    .dataframe tbody tr th:only-of-type {\n",
       "        vertical-align: middle;\n",
       "    }\n",
       "\n",
       "    .dataframe tbody tr th {\n",
       "        vertical-align: top;\n",
       "    }\n",
       "\n",
       "    .dataframe thead th {\n",
       "        text-align: right;\n",
       "    }\n",
       "</style>\n",
       "<table border=\"1\" class=\"dataframe\">\n",
       "  <thead>\n",
       "    <tr style=\"text-align: right;\">\n",
       "      <th></th>\n",
       "      <th>job_desc</th>\n",
       "      <th>senior_flag</th>\n",
       "    </tr>\n",
       "    <tr>\n",
       "      <th>job_ids</th>\n",
       "      <th></th>\n",
       "      <th></th>\n",
       "    </tr>\n",
       "  </thead>\n",
       "  <tbody>\n",
       "    <tr>\n",
       "      <th>36097862</th>\n",
       "      <td>['&lt;div class=\"templatetext\"&gt;\\n                ...</td>\n",
       "      <td>n</td>\n",
       "    </tr>\n",
       "    <tr>\n",
       "      <th>36447540</th>\n",
       "      <td>['&lt;div class=\"jobtitle\"&gt;\\n                    ...</td>\n",
       "      <td>n</td>\n",
       "    </tr>\n",
       "    <tr>\n",
       "      <th>36480731</th>\n",
       "      <td>['&lt;div class=\"templatetext\"&gt;\\n                ...</td>\n",
       "      <td>n</td>\n",
       "    </tr>\n",
       "    <tr>\n",
       "      <th>36541524</th>\n",
       "      <td>['&lt;div class=\"templatetext\"&gt;\\n                ...</td>\n",
       "      <td>n</td>\n",
       "    </tr>\n",
       "    <tr>\n",
       "      <th>36583998</th>\n",
       "      <td>['&lt;div class=\"templatetext\"&gt;\\n                ...</td>\n",
       "      <td>n</td>\n",
       "    </tr>\n",
       "  </tbody>\n",
       "</table>\n",
       "</div>"
      ],
      "text/plain": [
       "                                                   job_desc senior_flag\n",
       "job_ids                                                                \n",
       "36097862  ['<div class=\"templatetext\">\\n                ...           n\n",
       "36447540  ['<div class=\"jobtitle\">\\n                    ...           n\n",
       "36480731  ['<div class=\"templatetext\">\\n                ...           n\n",
       "36541524  ['<div class=\"templatetext\">\\n                ...           n\n",
       "36583998  ['<div class=\"templatetext\">\\n                ...           n"
      ]
     },
     "execution_count": 122,
     "metadata": {},
     "output_type": "execute_result"
    }
   ],
   "source": [
    "# Drop title\n",
    "new_df.drop('title', axis=1, inplace=True)\n",
    "new_df.head()"
   ]
  },
  {
   "cell_type": "code",
   "execution_count": 123,
   "metadata": {},
   "outputs": [
    {
     "data": {
      "text/html": [
       "<div>\n",
       "<style scoped>\n",
       "    .dataframe tbody tr th:only-of-type {\n",
       "        vertical-align: middle;\n",
       "    }\n",
       "\n",
       "    .dataframe tbody tr th {\n",
       "        vertical-align: top;\n",
       "    }\n",
       "\n",
       "    .dataframe thead th {\n",
       "        text-align: right;\n",
       "    }\n",
       "</style>\n",
       "<table border=\"1\" class=\"dataframe\">\n",
       "  <thead>\n",
       "    <tr style=\"text-align: right;\">\n",
       "      <th></th>\n",
       "      <th>job_desc</th>\n",
       "      <th>senior_flag</th>\n",
       "    </tr>\n",
       "    <tr>\n",
       "      <th>job_ids</th>\n",
       "      <th></th>\n",
       "      <th></th>\n",
       "    </tr>\n",
       "  </thead>\n",
       "  <tbody>\n",
       "    <tr>\n",
       "      <th>36097862</th>\n",
       "      <td>['&lt;div class=\"templatetext\"&gt;\\n                ...</td>\n",
       "      <td>n</td>\n",
       "    </tr>\n",
       "  </tbody>\n",
       "</table>\n",
       "</div>"
      ],
      "text/plain": [
       "                                                   job_desc senior_flag\n",
       "job_ids                                                                \n",
       "36097862  ['<div class=\"templatetext\">\\n                ...           n"
      ]
     },
     "execution_count": 123,
     "metadata": {},
     "output_type": "execute_result"
    }
   ],
   "source": [
    "new_df.head(1)"
   ]
  },
  {
   "cell_type": "code",
   "execution_count": 124,
   "metadata": {},
   "outputs": [],
   "source": [
    "# Define senior_flag as the target variable y\n",
    "\n",
    "y = new_df.senior_flag"
   ]
  },
  {
   "cell_type": "code",
   "execution_count": 125,
   "metadata": {},
   "outputs": [
    {
     "data": {
      "text/html": [
       "<div>\n",
       "<style scoped>\n",
       "    .dataframe tbody tr th:only-of-type {\n",
       "        vertical-align: middle;\n",
       "    }\n",
       "\n",
       "    .dataframe tbody tr th {\n",
       "        vertical-align: top;\n",
       "    }\n",
       "\n",
       "    .dataframe thead th {\n",
       "        text-align: right;\n",
       "    }\n",
       "</style>\n",
       "<table border=\"1\" class=\"dataframe\">\n",
       "  <thead>\n",
       "    <tr style=\"text-align: right;\">\n",
       "      <th></th>\n",
       "      <th>job_desc</th>\n",
       "    </tr>\n",
       "    <tr>\n",
       "      <th>job_ids</th>\n",
       "      <th></th>\n",
       "    </tr>\n",
       "  </thead>\n",
       "  <tbody>\n",
       "    <tr>\n",
       "      <th>36097862</th>\n",
       "      <td>['&lt;div class=\"templatetext\"&gt;\\n                ...</td>\n",
       "    </tr>\n",
       "    <tr>\n",
       "      <th>36447540</th>\n",
       "      <td>['&lt;div class=\"jobtitle\"&gt;\\n                    ...</td>\n",
       "    </tr>\n",
       "    <tr>\n",
       "      <th>36480731</th>\n",
       "      <td>['&lt;div class=\"templatetext\"&gt;\\n                ...</td>\n",
       "    </tr>\n",
       "    <tr>\n",
       "      <th>36541524</th>\n",
       "      <td>['&lt;div class=\"templatetext\"&gt;\\n                ...</td>\n",
       "    </tr>\n",
       "    <tr>\n",
       "      <th>36583998</th>\n",
       "      <td>['&lt;div class=\"templatetext\"&gt;\\n                ...</td>\n",
       "    </tr>\n",
       "  </tbody>\n",
       "</table>\n",
       "</div>"
      ],
      "text/plain": [
       "                                                   job_desc\n",
       "job_ids                                                    \n",
       "36097862  ['<div class=\"templatetext\">\\n                ...\n",
       "36447540  ['<div class=\"jobtitle\">\\n                    ...\n",
       "36480731  ['<div class=\"templatetext\">\\n                ...\n",
       "36541524  ['<div class=\"templatetext\">\\n                ...\n",
       "36583998  ['<div class=\"templatetext\">\\n                ..."
      ]
     },
     "execution_count": 125,
     "metadata": {},
     "output_type": "execute_result"
    }
   ],
   "source": [
    "# Drop senior_flag\n",
    "new_df.drop('senior_flag', axis=1, inplace=True)\n",
    "new_df.head()"
   ]
  },
  {
   "cell_type": "code",
   "execution_count": 126,
   "metadata": {},
   "outputs": [],
   "source": [
    "# Define X as job_desc\n",
    "\n",
    "X = new_df.job_desc"
   ]
  },
  {
   "cell_type": "code",
   "execution_count": 127,
   "metadata": {},
   "outputs": [
    {
     "name": "stdout",
     "output_type": "stream",
     "text": [
      "(709,) (709,)\n",
      "(350,) (350,)\n"
     ]
    }
   ],
   "source": [
    "# Split jobs_dummy to train and test sets\n",
    "\n",
    "from sklearn.model_selection import train_test_split\n",
    "\n",
    "X_train, X_test, y_train, y_test = train_test_split(X, y, test_size=0.33)\n",
    "print(X_train.shape, y_train.shape)\n",
    "print(X_test.shape, y_test.shape)"
   ]
  },
  {
   "cell_type": "code",
   "execution_count": 128,
   "metadata": {},
   "outputs": [
    {
     "name": "stdout",
     "output_type": "stream",
     "text": [
      "train data (709, 8772)\n",
      "test data (350, 8772)\n"
     ]
    }
   ],
   "source": [
    "# Use TfidfVectorizer to extract features from jobs_desc column and fit to train\n",
    "\n",
    "from sklearn.feature_extraction.text import TfidfVectorizer\n",
    "\n",
    "\n",
    "# Initialise TfidfVectorizer\n",
    "\n",
    "tfidf_vectorizer = TfidfVectorizer(stop_words='english', max_df=0.7)\n",
    "\n",
    "# Fit and transform the training data\n",
    "\n",
    "tfidf_train = tfidf_vectorizer.fit_transform(X_train)\n",
    "print(\"train data \" + str(tfidf_train.shape))\n",
    "\n",
    "# Fit and transform the test data\n",
    "\n",
    "tfidf_test = tfidf_vectorizer.transform(X_test)\n",
    "print(\"test data \" + str(tfidf_test.shape))"
   ]
  },
  {
   "cell_type": "code",
   "execution_count": 129,
   "metadata": {},
   "outputs": [
    {
     "data": {
      "text/plain": [
       "<709x8772 sparse matrix of type '<class 'numpy.float64'>'\n",
       "\twith 107654 stored elements in Compressed Sparse Row format>"
      ]
     },
     "execution_count": 129,
     "metadata": {},
     "output_type": "execute_result"
    }
   ],
   "source": [
    "tfidf_train"
   ]
  },
  {
   "cell_type": "code",
   "execution_count": 130,
   "metadata": {},
   "outputs": [
    {
     "data": {
      "text/plain": [
       "<350x8772 sparse matrix of type '<class 'numpy.float64'>'\n",
       "\twith 51764 stored elements in Compressed Sparse Row format>"
      ]
     },
     "execution_count": 130,
     "metadata": {},
     "output_type": "execute_result"
    }
   ],
   "source": [
    "tfidf_test"
   ]
  },
  {
   "cell_type": "code",
   "execution_count": 131,
   "metadata": {
    "scrolled": false
   },
   "outputs": [],
   "source": [
    "# Get the feature names of TfidfVectorizer\n",
    "\n",
    "tfidf_features = tfidf_vectorizer.get_feature_names()"
   ]
  },
  {
   "cell_type": "markdown",
   "metadata": {},
   "source": [
    "### Below is a function derived from datacamp to generate the confusion matrix"
   ]
  },
  {
   "cell_type": "code",
   "execution_count": 146,
   "metadata": {},
   "outputs": [],
   "source": [
    "import matplotlib.pyplot as plt\n",
    "from sklearn.metrics import confusion_matrix\n",
    "from itertools import *\n",
    "\n",
    "def plot_confusion_matrix(cm, classes,\n",
    "                          normalize=False,\n",
    "                          title='Confusion matrix',\n",
    "                          cmap=plt.cm.Blues):\n",
    "\n",
    "    plt.imshow(cm, interpolation='nearest', cmap=cmap)\n",
    "    plt.title(title)\n",
    "    plt.colorbar()\n",
    "    tick_marks = np.arange(len(classes))\n",
    "    plt.xticks(tick_marks, classes, rotation=45)\n",
    "    plt.yticks(tick_marks, classes)\n",
    "\n",
    "    if normalize:\n",
    "        cm = cm.astype('float') / cm.sum(axis=1)[:, np.newaxis]\n",
    "        print(\"Normalized confusion matrix\")\n",
    "    else:\n",
    "        print('Confusion matrix, without normalization')\n",
    "\n",
    "    plt.tight_layout()\n",
    "    plt.ylabel('True label')\n",
    "    plt.xlabel('Predicted label')"
   ]
  },
  {
   "cell_type": "code",
   "execution_count": 184,
   "metadata": {},
   "outputs": [
    {
     "name": "stdout",
     "output_type": "stream",
     "text": [
      "accuracy:   0.706\n",
      "Confusion matrix, without normalization\n"
     ]
    },
    {
     "data": {
      "image/png": "[encoded data removed]",
      "text/plain": [
       "<matplotlib.figure.Figure at 0x15508a39f28>"
      ]
     },
     "metadata": {},
     "output_type": "display_data"
    }
   ],
   "source": [
    "# Predict using Logistic Regression\n",
    "from sklearn.linear_model import LogisticRegression\n",
    "\n",
    "clf_lr = LogisticRegression() # Initiate LogisticRegressionas the classifier model\n",
    "\n",
    "clf_lr.fit(tfidf_train, y_train) # Fit model to the train set\n",
    "\n",
    "y_pred = clf_lr.predict(tfidf_test) # Predict test set\n",
    "\n",
    "score = accuracy_score(y_test, y_pred)\n",
    "print(\"accuracy:   %0.3f\" % score)\n",
    "cm = confusion_matrix(y_test, y_pred, labels=['y', 'n'])\n",
    "plot_confusion_matrix(cm, classes=['y', 'n'])"
   ]
  },
  {
   "cell_type": "code",
   "execution_count": 185,
   "metadata": {},
   "outputs": [
    {
     "name": "stdout",
     "output_type": "stream",
     "text": [
      "accuracy:   0.706\n",
      "Confusion matrix, without normalization\n"
     ]
    },
    {
     "data": {
      "image/png": "[encoded data removed]",
      "text/plain": [
       "<matplotlib.figure.Figure at 0x155049e1f60>"
      ]
     },
     "metadata": {},
     "output_type": "display_data"
    }
   ],
   "source": [
    "# Predict using SGDRegressor\n",
    "from sklearn.linear_model import SGDRegressor\n",
    "\n",
    "clf_SGD = LogisticRegression() # Initiate SGDRegressor as the classifier model\n",
    "\n",
    "clf_SGD.fit(tfidf_train, y_train) # Fit model to the train set\n",
    "\n",
    "y_pred = clf_SGD.predict(tfidf_test) # Predict test set\n",
    "\n",
    "score = accuracy_score(y_test, y_pred)\n",
    "print(\"accuracy:   %0.3f\" % score)\n",
    "cm = confusion_matrix(y_test, y_pred, labels=['y', 'n'])\n",
    "plot_confusion_matrix(cm, classes=['y', 'n'])"
   ]
  },
  {
   "cell_type": "code",
   "execution_count": 186,
   "metadata": {},
   "outputs": [
    {
     "name": "stdout",
     "output_type": "stream",
     "text": [
      "accuracy:   0.700\n",
      "Confusion matrix, without normalization\n"
     ]
    },
    {
     "data": {
      "image/png": "[encoded data removed]",
      "text/plain": [
       "<matplotlib.figure.Figure at 0x1550585efd0>"
      ]
     },
     "metadata": {},
     "output_type": "display_data"
    }
   ],
   "source": [
    "# Predict using Decision Tree Classifier\n",
    "\n",
    "from sklearn.tree import DecisionTreeClassifier\n",
    "from sklearn.metrics import accuracy_score\n",
    "from sklearn.metrics import confusion_matrix\n",
    "\n",
    "clf_dt = DecisionTreeClassifier() # Initiate Decision Tree as the classifier model\n",
    "\n",
    "clf_dt.fit(tfidf_train, y_train) # Fit model to the train set\n",
    "\n",
    "y_pred = clf_dt.predict(tfidf_test) # Predict test set\n",
    "\n",
    "score = accuracy_score(y_test, y_pred)\n",
    "print(\"accuracy:   %0.3f\" % score)\n",
    "cm = confusion_matrix(y_test, y_pred, labels=['y', 'n'])\n",
    "plot_confusion_matrix(cm, classes=['y', 'n'])"
   ]
  },
  {
   "cell_type": "code",
   "execution_count": 187,
   "metadata": {},
   "outputs": [
    {
     "name": "stdout",
     "output_type": "stream",
     "text": [
      "accuracy:   0.700\n",
      "Confusion matrix, without normalization\n"
     ]
    },
    {
     "data": {
      "image/png": "[encoded data removed]",
      "text/plain": [
       "<matplotlib.figure.Figure at 0x155049ae908>"
      ]
     },
     "metadata": {},
     "output_type": "display_data"
    }
   ],
   "source": [
    "# Predict using Support Vector Machine (SVM)\n",
    "\n",
    "from sklearn import svm\n",
    "\n",
    "clf_svm = svm.SVC() # Initiate  Support Vector Machine the classifier model\n",
    "\n",
    "clf_svm.fit(tfidf_train, y_train) # Fit model to the train set\n",
    "\n",
    "y_pred = clf_svm.predict(tfidf_test) # Predict test set\n",
    "\n",
    "y_pred = clf_dt.predict(tfidf_test) # Predict test set\n",
    "\n",
    "score = accuracy_score(y_test, y_pred)\n",
    "print(\"accuracy:   %0.3f\" % score)\n",
    "cm = confusion_matrix(y_test, y_pred, labels=['y', 'n'])\n",
    "plot_confusion_matrix(cm, classes=['y', 'n'])"
   ]
  },
  {
   "cell_type": "code",
   "execution_count": 188,
   "metadata": {},
   "outputs": [
    {
     "name": "stdout",
     "output_type": "stream",
     "text": [
      "accuracy:   0.623\n",
      "Confusion matrix, without normalization\n"
     ]
    },
    {
     "data": {
      "image/png": "[encoded data removed]",
      "text/plain": [
       "<matplotlib.figure.Figure at 0x155086cdf60>"
      ]
     },
     "metadata": {},
     "output_type": "display_data"
    }
   ],
   "source": [
    "# Predict using MultinomialNB Classifier\n",
    "\n",
    "from sklearn.naive_bayes import MultinomialNB\n",
    "\n",
    "clf_Mult = MultinomialNB() # Initiate MultinomialNB  as the classifier model\n",
    "\n",
    "clf_Mult.fit(tfidf_train, y_train) # Fit model to the train set\n",
    "\n",
    "y_pred = clf_Mult.predict(tfidf_test) # Predict test set\n",
    "\n",
    "score = accuracy_score(y_test, y_pred)\n",
    "print(\"accuracy:   %0.3f\" % score)\n",
    "cm = confusion_matrix(y_test, y_pred, labels=['y', 'n'])\n",
    "plot_confusion_matrix(cm, classes=['y', 'n'])"
   ]
  },
  {
   "cell_type": "code",
   "execution_count": 189,
   "metadata": {},
   "outputs": [
    {
     "name": "stdout",
     "output_type": "stream",
     "text": [
      "accuracy:   0.671\n",
      "Confusion matrix, without normalization\n"
     ]
    },
    {
     "data": {
      "image/png": "[encoded data removed]",
      "text/plain": [
       "<matplotlib.figure.Figure at 0x155056fef28>"
      ]
     },
     "metadata": {},
     "output_type": "display_data"
    }
   ],
   "source": [
    "# Predict using KNN Classifier\n",
    "\n",
    "from sklearn import neighbors\n",
    "\n",
    "clf_KNN = neighbors.KNeighborsClassifier(n_neighbors = 1) # Initiate KNeighboursClassifier as the classifier model\n",
    "\n",
    "clf_KNN.fit(tfidf_train, y_train) # Fit model to the train set\n",
    "\n",
    "y_pred = clf_KNN.predict(tfidf_test) # Predict test set\n",
    "\n",
    "score = accuracy_score(y_test, y_pred)\n",
    "print(\"accuracy:   %0.3f\" % score)\n",
    "cm = confusion_matrix(y_test, y_pred, labels=['y', 'n'])\n",
    "plot_confusion_matrix(cm, classes=['y', 'n'])\n"
   ]
  },
  {
   "cell_type": "code",
   "execution_count": 190,
   "metadata": {},
   "outputs": [
    {
     "name": "stdout",
     "output_type": "stream",
     "text": [
      "accuracy:   0.680\n",
      "Confusion matrix, without normalization\n"
     ]
    },
    {
     "data": {
      "image/png": "[encoded data removed]",
      "text/plain": [
       "<matplotlib.figure.Figure at 0x155085f7630>"
      ]
     },
     "metadata": {},
     "output_type": "display_data"
    }
   ],
   "source": [
    "# Predict using Random Forest Classifier\n",
    "\n",
    "from sklearn.ensemble import RandomForestClassifier\n",
    "\n",
    "clf_RandomForest = RandomForestClassifier() # Initiate RandomForest as the classifier model\n",
    "\n",
    "clf_RandomForest.fit(tfidf_train, y_train) # Fit model to the train set\n",
    "\n",
    "y_pred = clf_RandomForest.predict(tfidf_test) # Predict test set\n",
    "\n",
    "score = accuracy_score(y_test, y_pred)\n",
    "print(\"accuracy:   %0.3f\" % score)\n",
    "cm = confusion_matrix(y_test, y_pred, labels=['y', 'n'])\n",
    "plot_confusion_matrix(cm, classes=['y', 'n'])"
   ]
  },
  {
   "cell_type": "markdown",
   "metadata": {},
   "source": [
    "### Baseline accuracy - the proportion of majority class"
   ]
  },
  {
   "cell_type": "code",
   "execution_count": 88,
   "metadata": {},
   "outputs": [
    {
     "name": "stdout",
     "output_type": "stream",
     "text": [
      "n    643\n",
      "y    416\n",
      "Name: senior_flag, dtype: int64\n",
      "n    0.607177\n",
      "y    0.392823\n",
      "Name: senior_flag, dtype: float64\n"
     ]
    }
   ],
   "source": [
    "# Baseline accuracy - the proportion of majority class\n",
    "\n",
    "baseline = y.value_counts() / y.count()\n",
    "\n",
    "print(y.value_counts())\n",
    "print(baseline)"
   ]
  },
  {
   "cell_type": "markdown",
   "metadata": {},
   "source": [
    "### Inspect the top 30 vectors"
   ]
  },
  {
   "cell_type": "code",
   "execution_count": 197,
   "metadata": {},
   "outputs": [
    {
     "data": {
      "text/plain": [
       "[(1.7685683087987345, 'senior'),\n",
       " (1.7311242178090998, 'manager'),\n",
       " (1.152162283736196, 'leadership'),\n",
       " (1.0880595111557092, 'lead'),\n",
       " (0.9201770138141511, 'management'),\n",
       " (0.8849902994947862, 'marketing'),\n",
       " (0.8598463419477885, 'strategic'),\n",
       " (0.8466669573617484, 'deloitte'),\n",
       " (0.8230127579393386, 'strategy'),\n",
       " (0.800093294674445, 'managing'),\n",
       " (0.7013467653430323, 'test'),\n",
       " (0.6952277768341554, 'brand'),\n",
       " (0.6814778879187504, 'commercial'),\n",
       " (0.6732484017010363, 'innovative'),\n",
       " (0.671406792125169, 'demonstrated'),\n",
       " (0.66662017099734, 'project'),\n",
       " (0.6578066560662956, 'design'),\n",
       " (0.6485875626928522, 'delivery'),\n",
       " (0.6433771630911275, 'manage'),\n",
       " (0.6378669156693845, 'relationships')]"
      ]
     },
     "execution_count": 197,
     "metadata": {},
     "output_type": "execute_result"
    }
   ],
   "source": [
    "sorted(zip(clf_lr.coef_[0], tfidf_features), reverse=True)[:20]"
   ]
  },
  {
   "cell_type": "markdown",
   "metadata": {},
   "source": [
    "## Executive Summary"
   ]
  },
  {
   "cell_type": "markdown",
   "metadata": {},
   "source": [
    "#### __Purpose__<br>\n",
    "The purpose of this section is to provide a brief summary of the key findings, performance and evaluation of the models that predict job salary trends and job category factors, specific to data science and data related jobs <br>\n",
    "#### __Data Source__<br>\n",
    "The job ads data has been sourced via webscraping from seek.com.au using search words:<br>\n",
    "__'Data-Scientist-jobs','Data-Science-jobs','Data-Analyst-jobs','Data-Engineer-jobs','Data-Analytics-jobs', 'Analytics-jobs','Data-Insights-jobs','Big-Data-jobs','Business-Intelligence-jobs','Data-Warehouse-jobs','Data-Consultant-jobs'__<br>\n",
    "<br>\n",
    "Since most ads did not contain salary information, the approach taken here to gather the target variable salary, was to scrape and search separately different salary classification. The seek.com.au website has salary range buttons that allows end-users to filter by salary. This dataset includes three salary classes: __'below_100k', '100-150k', '150+'__<br>\n",
    "#### __Section 1:  Predicting Job Salary based on all available features__\n",
    "This predictive model aims to predict the salary classes or range of each job ads based on the features gathered. These features include 'job_desc', 'salary', 'advertiser', 'title', 'class', 'sub_class','type'<br>\n",
    "<br>\n",
    "All features where all categorical features and all had to be dummified. Initially, the model used and vectorized the job_desc but performed just below the baseline. Instead, the remaining features were used without the vectorized job_desc. As a result, all models performed better and above the __baseline score of 0.40.__ The best model that performed was KNN Classifier with an __accuracy score of 0.57__\n",
    "#### __Section 2: Predicting seniority based job description__\n",
    "This predictive model aims to predict whether a job is for a senior or non-senior position based on the text of the full description of the of the ad.<br>\n",
    "<br>\n",
    "In order to predict whether a job ad is for a senior or non-senior position, a new column senior_flag has been created to be the predicted value and were populated based on the job titles.<br>\n",
    "<br>\n",
    "Tfidf_vectorizer were used to vectorize the job_desc with some pre-preprocessing. Overall, all the classifier models that were used performed above __baseline score of 0.60__. The best models that performed were the LogisticRegression, SGDRegressor, DecisionTreeClassifier and Support Vector Machine. All had the same __score of 0.70__<br>\n",
    "\n",
    "__The top 20 vectors or words in this model were:__\n",
    "\n",
    "(1.7685683087987345, 'senior'), <br>\n",
    "(1.7311242178090998, 'manager'),<br>\n",
    "(1.152162283736196, 'leadership'),<br>\n",
    "(1.0880595111557092, 'lead'),<br>\n",
    "(0.9201770138141511, 'management'),<br>\n",
    "(0.8849902994947862, 'marketing'),<br>\n",
    "(0.8598463419477885, 'strategic'),<br>\n",
    "(0.8466669573617484, 'deloitte'),<br>\n",
    "(0.8230127579393386, 'strategy'),<br>\n",
    "(0.800093294674445, 'managing'),<br>\n",
    "(0.7013467653430323, 'test'),<br>\n",
    "(0.6952277768341554, 'brand'),<br>\n",
    "(0.6814778879187504, 'commercial'),<br>\n",
    "(0.6732484017010363, 'innovative'),<br>\n",
    "(0.671406792125169, 'demonstrated'),<br>\n",
    "(0.66662017099734, 'project'),<br>\n",
    "(0.6578066560662956, 'design'),<br>\n",
    "(0.6485875626928522, 'delivery'),<br>\n",
    "(0.6433771630911275, 'manage'),<br>\n",
    "(0.6378669156693845, 'relationships')<br>\n",
    "\n",
    "### Conclusion\n",
    "Overall the models to predict salary and job seniority has perfomed well, scoring above the baseline scores. There are limitations with the dataset in order to predict pure 'Data Science' or 'Data Science' jobs as there are simply not enough instances of these jobs. The scope of this exercise was also to include all data-related jobs which made predicitive modelling possible. The models could also benefit from widening the dataset. This dataset was only filtered on Melbourne region. The model can possibly be improved by doing more cleaning and pre-processing of the text data"
   ]
  },
  {
   "cell_type": "code",
   "execution_count": null,
   "metadata": {},
   "outputs": [],
   "source": []
  }
 ],
 "metadata": {
  "kernelspec": {
   "display_name": "Python 3",
   "language": "python",
   "name": "python3"
  },
  "language_info": {
   "codemirror_mode": {
    "name": "ipython",
    "version": 3
   },
   "file_extension": ".py",
   "mimetype": "text/x-python",
   "name": "python",
   "nbconvert_exporter": "python",
   "pygments_lexer": "ipython3",
   "version": "3.6.4"
  }
 },
 "nbformat": 4,
 "nbformat_minor": 2
}
