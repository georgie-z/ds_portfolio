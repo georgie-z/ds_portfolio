{
 "cells": [
  {
   "cell_type": "code",
   "execution_count": 2,
   "metadata": {},
   "outputs": [],
   "source": [
    "import pandas as pd"
   ]
  },
  {
   "cell_type": "code",
   "execution_count": 93,
   "metadata": {},
   "outputs": [],
   "source": [
    "all_df_csv = '../project-four/all_df.csv'\n",
    "all_df = pd.read_csv(all_df_csv, encoding='iso-8859-1', index_col ='job_ids')"
   ]
  },
  {
   "cell_type": "code",
   "execution_count": 94,
   "metadata": {},
   "outputs": [
    {
     "data": {
      "text/plain": [
       "(1459, 10)"
      ]
     },
     "execution_count": 94,
     "metadata": {},
     "output_type": "execute_result"
    }
   ],
   "source": [
    "all_df.shape"
   ]
  },
  {
   "cell_type": "code",
   "execution_count": 95,
   "metadata": {},
   "outputs": [
    {
     "data": {
      "text/html": [
       "<div>\n",
       "<style scoped>\n",
       "    .dataframe tbody tr th:only-of-type {\n",
       "        vertical-align: middle;\n",
       "    }\n",
       "\n",
       "    .dataframe tbody tr th {\n",
       "        vertical-align: top;\n",
       "    }\n",
       "\n",
       "    .dataframe thead th {\n",
       "        text-align: right;\n",
       "    }\n",
       "</style>\n",
       "<table border=\"1\" class=\"dataframe\">\n",
       "  <thead>\n",
       "    <tr style=\"text-align: right;\">\n",
       "      <th></th>\n",
       "      <th>Unnamed: 0</th>\n",
       "      <th>job_advertiser</th>\n",
       "      <th>job_title</th>\n",
       "      <th>job_class</th>\n",
       "      <th>job_sub_class</th>\n",
       "      <th>job_type</th>\n",
       "      <th>job_location</th>\n",
       "      <th>job_post_date</th>\n",
       "      <th>job_salary</th>\n",
       "      <th>job_desc</th>\n",
       "    </tr>\n",
       "    <tr>\n",
       "      <th>job_ids</th>\n",
       "      <th></th>\n",
       "      <th></th>\n",
       "      <th></th>\n",
       "      <th></th>\n",
       "      <th></th>\n",
       "      <th></th>\n",
       "      <th></th>\n",
       "      <th></th>\n",
       "      <th></th>\n",
       "      <th></th>\n",
       "    </tr>\n",
       "  </thead>\n",
       "  <tbody>\n",
       "    <tr>\n",
       "      <th>36617279</th>\n",
       "      <td>0</td>\n",
       "      <td>['\\n                   SEEK\\n                  ']</td>\n",
       "      <td>['\\n                   Data Scientist\\n       ...</td>\n",
       "      <td>['\\n                     Science &amp; Technology\\...</td>\n",
       "      <td>['\\n                     ', '\\n               ...</td>\n",
       "      <td>['&lt;span class=\"lwHBT6d\"&gt;\\n                   F...</td>\n",
       "      <td>['&lt;strong class=\"lwHBT6d\"&gt;\\n                  ...</td>\n",
       "      <td>['&lt;span class=\"lwHBT6d\"&gt;\\n                    ...</td>\n",
       "      <td>['&lt;span class=\"lwHBT6d\"&gt;\\n                    ...</td>\n",
       "      <td>['&lt;div class=\"templatetext\"&gt;\\n                ...</td>\n",
       "    </tr>\n",
       "  </tbody>\n",
       "</table>\n",
       "</div>"
      ],
      "text/plain": [
       "          Unnamed: 0                                     job_advertiser  \\\n",
       "job_ids                                                                   \n",
       "36617279           0  ['\\n                   SEEK\\n                  ']   \n",
       "\n",
       "                                                  job_title  \\\n",
       "job_ids                                                       \n",
       "36617279  ['\\n                   Data Scientist\\n       ...   \n",
       "\n",
       "                                                  job_class  \\\n",
       "job_ids                                                       \n",
       "36617279  ['\\n                     Science & Technology\\...   \n",
       "\n",
       "                                              job_sub_class  \\\n",
       "job_ids                                                       \n",
       "36617279  ['\\n                     ', '\\n               ...   \n",
       "\n",
       "                                                   job_type  \\\n",
       "job_ids                                                       \n",
       "36617279  ['<span class=\"lwHBT6d\">\\n                   F...   \n",
       "\n",
       "                                               job_location  \\\n",
       "job_ids                                                       \n",
       "36617279  ['<strong class=\"lwHBT6d\">\\n                  ...   \n",
       "\n",
       "                                              job_post_date  \\\n",
       "job_ids                                                       \n",
       "36617279  ['<span class=\"lwHBT6d\">\\n                    ...   \n",
       "\n",
       "                                                 job_salary  \\\n",
       "job_ids                                                       \n",
       "36617279  ['<span class=\"lwHBT6d\">\\n                    ...   \n",
       "\n",
       "                                                   job_desc  \n",
       "job_ids                                                      \n",
       "36617279  ['<div class=\"templatetext\">\\n                ...  "
      ]
     },
     "execution_count": 95,
     "metadata": {},
     "output_type": "execute_result"
    }
   ],
   "source": [
    "all_df.head(1)"
   ]
  },
  {
   "cell_type": "code",
   "execution_count": 96,
   "metadata": {},
   "outputs": [
    {
     "data": {
      "text/plain": [
       "['SEEK',\n",
       " 'Morgan Consulting',\n",
       " 'Ethos BeathChapman',\n",
       " 'Marshall McAdam',\n",
       " 'Sportsbet']"
      ]
     },
     "execution_count": 96,
     "metadata": {},
     "output_type": "execute_result"
    }
   ],
   "source": [
    "# Clean job_advertiser\n",
    "\n",
    "newAdvertisers=[]\n",
    "\n",
    "for a in all_df.job_advertiser:\n",
    "    try:\n",
    "        s=a.split('\\\\n')[1].lstrip()\n",
    "        #print(s)\n",
    "        newAdvertisers.append(s)\n",
    "    except:\n",
    "        newAdvertisers.append('')\n",
    "        \n",
    "newAdvertisers[0:5]"
   ]
  },
  {
   "cell_type": "code",
   "execution_count": 97,
   "metadata": {},
   "outputs": [
    {
     "data": {
      "text/plain": [
       "['Data Scientist',\n",
       " 'Data Scientist -',\n",
       " 'Data Scientist',\n",
       " 'Data Scientist',\n",
       " 'Data Scientist']"
      ]
     },
     "execution_count": 97,
     "metadata": {},
     "output_type": "execute_result"
    }
   ],
   "source": [
    "# Clean job_title\n",
    "\n",
    "new_job_title = []\n",
    "\n",
    "for b in all_df.job_title:\n",
    "    try:\n",
    "        t=b.split('\\\\n')[1].lstrip()\n",
    "        \n",
    "        new_job_title.append(t)\n",
    "    except:\n",
    "        new_job_title.append('')\n",
    "        \n",
    "new_job_title[0:5]"
   ]
  },
  {
   "cell_type": "code",
   "execution_count": 98,
   "metadata": {},
   "outputs": [
    {
     "data": {
      "text/plain": [
       "['Science & Technology',\n",
       " '',\n",
       " 'Information & Communication Technology',\n",
       " '',\n",
       " 'Science & Technology']"
      ]
     },
     "execution_count": 98,
     "metadata": {},
     "output_type": "execute_result"
    }
   ],
   "source": [
    "# Clean job_class\n",
    "\n",
    "new_job_class = []\n",
    "\n",
    "for c in all_df.job_class:\n",
    "    try:\n",
    "        u=c.split('\\\\n')[1].lstrip()\n",
    "        \n",
    "        new_job_class.append(u)\n",
    "    except:\n",
    "        new_job_class.append('')\n",
    "        \n",
    "new_job_class[0:5]"
   ]
  },
  {
   "cell_type": "code",
   "execution_count": 99,
   "metadata": {},
   "outputs": [
    {
     "data": {
      "text/plain": [
       "['Mathematics, Statistics & Information Sciences',\n",
       " 'Networks & Systems Administration',\n",
       " 'Developers/Programmers',\n",
       " 'Database Development & Administration',\n",
       " 'Mathematics, Statistics & Information Sciences']"
      ]
     },
     "execution_count": 99,
     "metadata": {},
     "output_type": "execute_result"
    }
   ],
   "source": [
    "# Clean job_sub_class\n",
    "\n",
    "new_job_sub_class = []\n",
    "\n",
    "for d in all_df.job_sub_class:\n",
    "    try:\n",
    "        v=d.split('\\\\n')[2].lstrip()\n",
    "        \n",
    "        new_job_sub_class.append(v)\n",
    "    except:\n",
    "        new_job_sub_class.append('')\n",
    "        \n",
    "new_job_sub_class[0:5]"
   ]
  },
  {
   "cell_type": "code",
   "execution_count": 100,
   "metadata": {},
   "outputs": [
    {
     "data": {
      "text/plain": [
       "['Full Time', 'Contract/Temp', 'Full Time', 'Contract/Temp', 'Full Time']"
      ]
     },
     "execution_count": 100,
     "metadata": {},
     "output_type": "execute_result"
    }
   ],
   "source": [
    "# Clean job_type\n",
    "\n",
    "new_job_type = []\n",
    "\n",
    "for e in all_df.job_type:\n",
    "    try:\n",
    "        u=e.split('\\\\n')[1].lstrip()\n",
    "        \n",
    "        new_job_type.append(u)\n",
    "    except:\n",
    "        new_job_type.append('')\n",
    "        \n",
    "new_job_type[0:5]"
   ]
  },
  {
   "cell_type": "code",
   "execution_count": 102,
   "metadata": {},
   "outputs": [],
   "source": [
    "# Add new salary column and populate values with '150k+' or '100-150k' or below_100k' to DataFrame\n",
    "all_df['salary'] = 'below_100k'\n",
    "\n",
    "# Add new cleaned newAdvertisers column to DataFrame\n",
    "all_df['advertiser'] = newAdvertisers\n",
    "\n",
    "# Add new cleaned new_job_title column to DataFrame\n",
    "all_df['title'] = new_job_title\n",
    "\n",
    "# Add new cleaned new_job_class column to DataFrame\n",
    "all_df['class'] = new_job_class\n",
    "\n",
    "# Add new cleaned new_job_sub_class column to DataFrame\n",
    "all_df['sub_class'] = new_job_sub_class\n",
    "\n",
    "# Add new cleaned new_job_type column to DataFrame\n",
    "all_df['type'] = new_job_type"
   ]
  },
  {
   "cell_type": "code",
   "execution_count": 104,
   "metadata": {},
   "outputs": [
    {
     "data": {
      "text/plain": [
       "Index(['Unnamed: 0', 'job_advertiser', 'job_title', 'job_class',\n",
       "       'job_sub_class', 'job_type', 'job_location', 'job_post_date',\n",
       "       'job_salary', 'job_desc', 'salary', 'advertiser', 'title', 'class',\n",
       "       'sub_class', 'type'],\n",
       "      dtype='object')"
      ]
     },
     "execution_count": 104,
     "metadata": {},
     "output_type": "execute_result"
    }
   ],
   "source": [
    "all_df.columns"
   ]
  },
  {
   "cell_type": "code",
   "execution_count": 105,
   "metadata": {},
   "outputs": [],
   "source": [
    "# Drop columns that are no longer required from DataFrame\n",
    "\n",
    "all_df.drop(all_df.iloc[:, 0:9], inplace=True, axis=1)"
   ]
  },
  {
   "cell_type": "code",
   "execution_count": 106,
   "metadata": {},
   "outputs": [
    {
     "name": "stdout",
     "output_type": "stream",
     "text": [
      "Index(['job_desc', 'salary', 'advertiser', 'title', 'class', 'sub_class',\n",
      "       'type'],\n",
      "      dtype='object')\n",
      "(1459, 7)\n"
     ]
    },
    {
     "data": {
      "text/html": [
       "<div>\n",
       "<style scoped>\n",
       "    .dataframe tbody tr th:only-of-type {\n",
       "        vertical-align: middle;\n",
       "    }\n",
       "\n",
       "    .dataframe tbody tr th {\n",
       "        vertical-align: top;\n",
       "    }\n",
       "\n",
       "    .dataframe thead th {\n",
       "        text-align: right;\n",
       "    }\n",
       "</style>\n",
       "<table border=\"1\" class=\"dataframe\">\n",
       "  <thead>\n",
       "    <tr style=\"text-align: right;\">\n",
       "      <th></th>\n",
       "      <th>job_desc</th>\n",
       "      <th>salary</th>\n",
       "      <th>advertiser</th>\n",
       "      <th>title</th>\n",
       "      <th>class</th>\n",
       "      <th>sub_class</th>\n",
       "      <th>type</th>\n",
       "    </tr>\n",
       "    <tr>\n",
       "      <th>job_ids</th>\n",
       "      <th></th>\n",
       "      <th></th>\n",
       "      <th></th>\n",
       "      <th></th>\n",
       "      <th></th>\n",
       "      <th></th>\n",
       "      <th></th>\n",
       "    </tr>\n",
       "  </thead>\n",
       "  <tbody>\n",
       "    <tr>\n",
       "      <th>36617279</th>\n",
       "      <td>['&lt;div class=\"templatetext\"&gt;\\n                ...</td>\n",
       "      <td>below_100k</td>\n",
       "      <td>SEEK</td>\n",
       "      <td>Data Scientist</td>\n",
       "      <td>Science &amp; Technology</td>\n",
       "      <td>Mathematics, Statistics &amp; Information Sciences</td>\n",
       "      <td>Full Time</td>\n",
       "    </tr>\n",
       "  </tbody>\n",
       "</table>\n",
       "</div>"
      ],
      "text/plain": [
       "                                                   job_desc      salary  \\\n",
       "job_ids                                                                   \n",
       "36617279  ['<div class=\"templatetext\">\\n                ...  below_100k   \n",
       "\n",
       "         advertiser           title                 class  \\\n",
       "job_ids                                                     \n",
       "36617279       SEEK  Data Scientist  Science & Technology   \n",
       "\n",
       "                                               sub_class       type  \n",
       "job_ids                                                              \n",
       "36617279  Mathematics, Statistics & Information Sciences  Full Time  "
      ]
     },
     "execution_count": 106,
     "metadata": {},
     "output_type": "execute_result"
    }
   ],
   "source": [
    "# Inspect columns and shape for all_df\n",
    "\n",
    "print(all_df.columns)\n",
    "print(all_df.shape)\n",
    "all_df.head(1)"
   ]
  },
  {
   "cell_type": "code",
   "execution_count": 190,
   "metadata": {},
   "outputs": [],
   "source": [
    "### Repeat the above steps from the start but apply to the other CSVs (med_df.csv, high_df.csv)"
   ]
  },
  {
   "cell_type": "code",
   "execution_count": 92,
   "metadata": {},
   "outputs": [
    {
     "name": "stdout",
     "output_type": "stream",
     "text": [
      "Index(['job_desc', 'salary', 'advertiser', 'title', 'class', 'sub_class',\n",
      "       'type'],\n",
      "      dtype='object')\n",
      "(1286, 7)\n"
     ]
    },
    {
     "data": {
      "text/html": [
       "<div>\n",
       "<style scoped>\n",
       "    .dataframe tbody tr th:only-of-type {\n",
       "        vertical-align: middle;\n",
       "    }\n",
       "\n",
       "    .dataframe tbody tr th {\n",
       "        vertical-align: top;\n",
       "    }\n",
       "\n",
       "    .dataframe thead th {\n",
       "        text-align: right;\n",
       "    }\n",
       "</style>\n",
       "<table border=\"1\" class=\"dataframe\">\n",
       "  <thead>\n",
       "    <tr style=\"text-align: right;\">\n",
       "      <th></th>\n",
       "      <th>job_desc</th>\n",
       "      <th>salary</th>\n",
       "      <th>advertiser</th>\n",
       "      <th>title</th>\n",
       "      <th>class</th>\n",
       "      <th>sub_class</th>\n",
       "      <th>type</th>\n",
       "    </tr>\n",
       "    <tr>\n",
       "      <th>job_ids</th>\n",
       "      <th></th>\n",
       "      <th></th>\n",
       "      <th></th>\n",
       "      <th></th>\n",
       "      <th></th>\n",
       "      <th></th>\n",
       "      <th></th>\n",
       "    </tr>\n",
       "  </thead>\n",
       "  <tbody>\n",
       "    <tr>\n",
       "      <th>36617279</th>\n",
       "      <td>['&lt;div class=\"templatetext\"&gt;\\n                ...</td>\n",
       "      <td>100-150k</td>\n",
       "      <td>SEEK</td>\n",
       "      <td>Data Scientist</td>\n",
       "      <td>Science &amp; Technology</td>\n",
       "      <td>Mathematics, Statistics &amp; Information Sciences</td>\n",
       "      <td>Full Time</td>\n",
       "    </tr>\n",
       "  </tbody>\n",
       "</table>\n",
       "</div>"
      ],
      "text/plain": [
       "                                                   job_desc    salary  \\\n",
       "job_ids                                                                 \n",
       "36617279  ['<div class=\"templatetext\">\\n                ...  100-150k   \n",
       "\n",
       "         advertiser           title                 class  \\\n",
       "job_ids                                                     \n",
       "36617279       SEEK  Data Scientist  Science & Technology   \n",
       "\n",
       "                                               sub_class       type  \n",
       "job_ids                                                              \n",
       "36617279  Mathematics, Statistics & Information Sciences  Full Time  "
      ]
     },
     "execution_count": 92,
     "metadata": {},
     "output_type": "execute_result"
    }
   ],
   "source": [
    "# Inspect columns and shape for med_df\n",
    "\n",
    "print(med_df.columns)\n",
    "print(med_df.shape)\n",
    "med_df.head(1)"
   ]
  },
  {
   "cell_type": "code",
   "execution_count": 80,
   "metadata": {},
   "outputs": [
    {
     "name": "stdout",
     "output_type": "stream",
     "text": [
      "Index(['job_desc', 'salary', 'advertiser', 'title', 'class', 'sub_class',\n",
      "       'type'],\n",
      "      dtype='object')\n",
      "(664, 7)\n"
     ]
    },
    {
     "data": {
      "text/html": [
       "<div>\n",
       "<style scoped>\n",
       "    .dataframe tbody tr th:only-of-type {\n",
       "        vertical-align: middle;\n",
       "    }\n",
       "\n",
       "    .dataframe tbody tr th {\n",
       "        vertical-align: top;\n",
       "    }\n",
       "\n",
       "    .dataframe thead th {\n",
       "        text-align: right;\n",
       "    }\n",
       "</style>\n",
       "<table border=\"1\" class=\"dataframe\">\n",
       "  <thead>\n",
       "    <tr style=\"text-align: right;\">\n",
       "      <th></th>\n",
       "      <th>job_desc</th>\n",
       "      <th>salary</th>\n",
       "      <th>advertiser</th>\n",
       "      <th>title</th>\n",
       "      <th>class</th>\n",
       "      <th>sub_class</th>\n",
       "      <th>type</th>\n",
       "    </tr>\n",
       "    <tr>\n",
       "      <th>job_ids</th>\n",
       "      <th></th>\n",
       "      <th></th>\n",
       "      <th></th>\n",
       "      <th></th>\n",
       "      <th></th>\n",
       "      <th></th>\n",
       "      <th></th>\n",
       "    </tr>\n",
       "  </thead>\n",
       "  <tbody>\n",
       "    <tr>\n",
       "      <th>36823796</th>\n",
       "      <td>['&lt;div class=\"templatetext\"&gt;\\n                ...</td>\n",
       "      <td>150k+</td>\n",
       "      <td>Morgan Consulting</td>\n",
       "      <td>Data Scientist -</td>\n",
       "      <td></td>\n",
       "      <td>Networks &amp; Systems Administration</td>\n",
       "      <td>Contract/Temp</td>\n",
       "    </tr>\n",
       "  </tbody>\n",
       "</table>\n",
       "</div>"
      ],
      "text/plain": [
       "                                                   job_desc salary  \\\n",
       "job_ids                                                              \n",
       "36823796  ['<div class=\"templatetext\">\\n                ...  150k+   \n",
       "\n",
       "                 advertiser             title class  \\\n",
       "job_ids                                               \n",
       "36823796  Morgan Consulting  Data Scientist -         \n",
       "\n",
       "                                  sub_class           type  \n",
       "job_ids                                                     \n",
       "36823796  Networks & Systems Administration  Contract/Temp  "
      ]
     },
     "execution_count": 80,
     "metadata": {},
     "output_type": "execute_result"
    }
   ],
   "source": [
    "# Inspect columns and shape for high_df\n",
    "\n",
    "print(high_df.columns)\n",
    "print(high_df.shape)\n",
    "high_df.head(1)"
   ]
  },
  {
   "cell_type": "code",
   "execution_count": 114,
   "metadata": {},
   "outputs": [
    {
     "name": "stdout",
     "output_type": "stream",
     "text": [
      "(846, 7)\n",
      "(682, 7)\n",
      "(332, 7)\n"
     ]
    }
   ],
   "source": [
    "# Remove duplicate rows from all DataFrames\n",
    "\n",
    "all_df.drop_duplicates(keep='first', inplace=True)\n",
    "med_df.drop_duplicates(keep='first', inplace=True)\n",
    "high_df.drop_duplicates(keep='first', inplace=True)\n",
    "\n",
    "print(all_df.shape)\n",
    "print(med_df.shape)\n",
    "print(high_df.shape)"
   ]
  },
  {
   "cell_type": "code",
   "execution_count": 54,
   "metadata": {},
   "outputs": [],
   "source": [
    "### The following steps are to merge DataFrames - all_df, med_df and high_df and ensuring duplicates are removed ###"
   ]
  },
  {
   "cell_type": "code",
   "execution_count": 115,
   "metadata": {},
   "outputs": [],
   "source": [
    "# Create a low_df DataFrame where the job_ids exists in all_df but are not in med_df\n",
    "\n",
    "low_df = all_df.loc[all_df.index.difference(med_df.index) ]"
   ]
  },
  {
   "cell_type": "code",
   "execution_count": 116,
   "metadata": {},
   "outputs": [
    {
     "data": {
      "text/plain": [
       "(278, 7)"
      ]
     },
     "execution_count": 116,
     "metadata": {},
     "output_type": "execute_result"
    }
   ],
   "source": [
    "low_df.shape"
   ]
  },
  {
   "cell_type": "code",
   "execution_count": 117,
   "metadata": {},
   "outputs": [],
   "source": [
    "# Create a medium_df DataFrame where the job_ids exists in med_df but are not in high_df\n",
    "\n",
    "medium_df = med_df.loc[med_df.index.difference(high_df.index) ]"
   ]
  },
  {
   "cell_type": "code",
   "execution_count": 118,
   "metadata": {},
   "outputs": [
    {
     "data": {
      "text/plain": [
       "(449, 7)"
      ]
     },
     "execution_count": 118,
     "metadata": {},
     "output_type": "execute_result"
    }
   ],
   "source": [
    "medium_df.shape"
   ]
  },
  {
   "cell_type": "code",
   "execution_count": 119,
   "metadata": {},
   "outputs": [
    {
     "data": {
      "text/plain": [
       "(332, 7)"
      ]
     },
     "execution_count": 119,
     "metadata": {},
     "output_type": "execute_result"
    }
   ],
   "source": [
    "high_df.shape"
   ]
  },
  {
   "cell_type": "code",
   "execution_count": 122,
   "metadata": {},
   "outputs": [],
   "source": [
    "# Concatenate all DataFrames vertifically\n",
    "\n",
    "jobs_df = pd.concat([low_df, medium_df, high_df], axis=0)"
   ]
  },
  {
   "cell_type": "code",
   "execution_count": 123,
   "metadata": {},
   "outputs": [
    {
     "data": {
      "text/plain": [
       "(1059, 7)"
      ]
     },
     "execution_count": 123,
     "metadata": {},
     "output_type": "execute_result"
    }
   ],
   "source": [
    "jobs_df.shape"
   ]
  },
  {
   "cell_type": "code",
   "execution_count": 124,
   "metadata": {},
   "outputs": [],
   "source": [
    "# Save jobs_df to csv\n",
    "jobs_df.to_csv('C:/Users/Georgie/Desktop/DSI/project-four/jobs_df.csv')"
   ]
  },
  {
   "cell_type": "code",
   "execution_count": 442,
   "metadata": {},
   "outputs": [],
   "source": [
    "## The end - please refer to Part 3 notebook"
   ]
  }
 ],
 "metadata": {
  "kernelspec": {
   "display_name": "Python 3",
   "language": "python",
   "name": "python3"
  },
  "language_info": {
   "codemirror_mode": {
    "name": "ipython",
    "version": 3
   },
   "file_extension": ".py",
   "mimetype": "text/x-python",
   "name": "python",
   "nbconvert_exporter": "python",
   "pygments_lexer": "ipython3",
   "version": "3.6.4"
  }
 },
 "nbformat": 4,
 "nbformat_minor": 2
}
